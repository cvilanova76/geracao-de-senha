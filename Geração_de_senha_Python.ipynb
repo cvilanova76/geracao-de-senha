{
  "nbformat": 4,
  "nbformat_minor": 0,
  "metadata": {
    "colab": {
      "provenance": [],
      "authorship_tag": "ABX9TyMfL8aKmLAGeNKUerZYKPzQ",
      "include_colab_link": true
    },
    "kernelspec": {
      "name": "python3",
      "display_name": "Python 3"
    },
    "language_info": {
      "name": "python"
    }
  },
  "cells": [
    {
      "cell_type": "markdown",
      "metadata": {
        "id": "view-in-github",
        "colab_type": "text"
      },
      "source": [
        "<a href=\"https://colab.research.google.com/github/cvilanova76/geracao-de-senha/blob/main/Gera%C3%A7%C3%A3o_de_senha_Python.ipynb\" target=\"_parent\"><img src=\"https://colab.research.google.com/assets/colab-badge.svg\" alt=\"Open In Colab\"/></a>"
      ]
    },
    {
      "cell_type": "code",
      "execution_count": 5,
      "metadata": {
        "id": "JAyqVmkKJWji"
      },
      "outputs": [],
      "source": [
        "def geracao_senha(num_letras_senha):\n",
        "  import random\n",
        "  senha_list = []\n",
        "  for i in range(num_letras_senha):\n",
        "    a = random.randint(48,122)\n",
        "    print(a)\n",
        "    while (a > 57 and a < 65) or  (a > 90 and a < 97):\n",
        "      a = random.randint(48,122)\n",
        "      print(a)\n",
        "    l = chr(a)\n",
        "    print(l)\n",
        "    senha_list.append(l)\n",
        "    print(senha_list)\n",
        "\n",
        "  return senha_list\n"
      ]
    },
    {
      "cell_type": "code",
      "source": [
        "try:\n",
        "  num_letras_senha = int(input(\"Qual a quantidade de letras da sua senha?\\n\"))\n",
        "  print(num_letras_senha)\n",
        "  senha_final = geracao_senha(num_letras_senha)\n",
        "  print(senha_final)\n",
        "  senha_carac = ''.join(senha_final)\n",
        "  print(senha_carac)\n",
        "except Exception as e:\n",
        "  print(e)"
      ],
      "metadata": {
        "colab": {
          "base_uri": "https://localhost:8080/"
        },
        "id": "AXQVr5oGhzby",
        "outputId": "48a08df7-e602-42b2-a653-60624e2c886f"
      },
      "execution_count": 6,
      "outputs": [
        {
          "output_type": "stream",
          "name": "stdout",
          "text": [
            "Qual a quantidade de letras da sua senha?\n",
            "5\n",
            "5\n",
            "65\n",
            "A\n",
            "['A']\n",
            "97\n",
            "a\n",
            "['A', 'a']\n",
            "116\n",
            "t\n",
            "['A', 'a', 't']\n",
            "91\n",
            "114\n",
            "r\n",
            "['A', 'a', 't', 'r']\n",
            "106\n",
            "j\n",
            "['A', 'a', 't', 'r', 'j']\n",
            "['A', 'a', 't', 'r', 'j']\n",
            "Aatrj\n"
          ]
        }
      ]
    }
  ]
}